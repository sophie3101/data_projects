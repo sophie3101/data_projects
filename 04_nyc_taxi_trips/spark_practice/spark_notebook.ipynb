{
 "cells": [
  {
   "cell_type": "code",
   "execution_count": 13,
   "id": "8e2a9367-3d1c-4472-a58b-b15010a6b9b7",
   "metadata": {},
   "outputs": [],
   "source": [
    "import pyspark\n",
    "from pyspark.sql import SparkSession, types\n",
    "import pyspark.sql.functions as sf\n",
    "import pandas as pd\n",
    "spark = SparkSession.builder \\\n",
    "    .master(\"local[*]\") \\\n",
    "    .appName('test') \\\n",
    "    .getOrCreate()"
   ]
  },
  {
   "cell_type": "code",
   "execution_count": 2,
   "id": "2accbf34-1410-4ad4-8873-70a8de67e727",
   "metadata": {},
   "outputs": [
    {
     "name": "stdout",
     "output_type": "stream",
     "text": [
      "+-----------------+--------------------+-------------------+-------------------+------------+------------+-------+\n",
      "|hvfhs_license_num|dispatching_base_num|    pickup_datetime|   dropoff_datetime|PULocationID|DOLocationID|SR_Flag|\n",
      "+-----------------+--------------------+-------------------+-------------------+------------+------------+-------+\n",
      "|           HV0003|              B02682|2021-01-01 00:33:44|2021-01-01 00:49:07|         230|         166|   NULL|\n",
      "+-----------------+--------------------+-------------------+-------------------+------------+------------+-------+\n",
      "only showing top 1 row\n",
      "\n"
     ]
    }
   ],
   "source": [
    "df = spark.read \\\n",
    "    .option(\"header\", \"true\") \\\n",
    "    .csv('work/fhvhv_tripdata_2021-01.csv.gz')\n",
    "\n",
    "df.show(1)"
   ]
  },
  {
   "cell_type": "code",
   "execution_count": 3,
   "id": "489269d9-9bf5-4f71-ae13-0d78729c95c0",
   "metadata": {},
   "outputs": [
    {
     "data": {
      "text/plain": [
       "StructType([StructField('hvfhs_license_num', StringType(), True), StructField('dispatching_base_num', StringType(), True), StructField('pickup_datetime', StringType(), True), StructField('dropoff_datetime', StringType(), True), StructField('PULocationID', StringType(), True), StructField('DOLocationID', StringType(), True), StructField('SR_Flag', StringType(), True)])"
      ]
     },
     "execution_count": 3,
     "metadata": {},
     "output_type": "execute_result"
    }
   ],
   "source": [
    "df.schema"
   ]
  },
  {
   "cell_type": "code",
   "execution_count": 4,
   "id": "858d7e64-130d-4c32-a616-b961f274eca9",
   "metadata": {},
   "outputs": [
    {
     "data": {
      "text/plain": [
       "hvfhs_license_num        object\n",
       "dispatching_base_num     object\n",
       "pickup_datetime          object\n",
       "dropoff_datetime         object\n",
       "PULocationID              int64\n",
       "DOLocationID              int64\n",
       "SR_Flag                 float64\n",
       "dtype: object"
      ]
     },
     "execution_count": 4,
     "metadata": {},
     "output_type": "execute_result"
    }
   ],
   "source": [
    "df_pandas = pd.read_csv(\"work/head.csv\")\n",
    "df_pandas.dtypes"
   ]
  },
  {
   "cell_type": "code",
   "execution_count": 6,
   "id": "f91c82b1-04c0-4abe-a2fd-a862ed5d371a",
   "metadata": {},
   "outputs": [],
   "source": [
    "schema = types.StructType([\n",
    "    types.StructField('hvfhs_license_num', types.StringType(), True),\n",
    "    types.StructField('dispatching_base_num', types.StringType(), True),\n",
    "    types.StructField('pickup_datetime', types.TimestampType(), True),\n",
    "    types.StructField('dropoff_datetime', types.TimestampType(), True),\n",
    "    types.StructField('PULocationID', types.IntegerType(), True),\n",
    "    types.StructField('DOLocationID', types.IntegerType(), True),\n",
    "    types.StructField('SR_Flag', types.StringType(), True)\n",
    "])"
   ]
  },
  {
   "cell_type": "code",
   "execution_count": 7,
   "id": "d763881d-7657-44b1-9dd9-83f59e40f1ee",
   "metadata": {},
   "outputs": [],
   "source": [
    "df = spark.read.option(\"header\", \"true\")\\\n",
    "          .schema(schema) \\\n",
    "            .csv('work/fhvhv_tripdata_2021-01.csv.gz')"
   ]
  },
  {
   "cell_type": "code",
   "execution_count": 9,
   "id": "cfac5f81-6d74-4149-8c94-7244646b1093",
   "metadata": {},
   "outputs": [
    {
     "data": {
      "text/plain": [
       "1"
      ]
     },
     "execution_count": 9,
     "metadata": {},
     "output_type": "execute_result"
    }
   ],
   "source": [
    "# current partition number\n",
    "df.rdd.getNumPartitions()\n"
   ]
  },
  {
   "cell_type": "code",
   "execution_count": 10,
   "id": "851a353a-72a7-4298-a29f-fb4f9c8c4c83",
   "metadata": {},
   "outputs": [],
   "source": [
    "df = df.repartition(24)"
   ]
  },
  {
   "cell_type": "code",
   "execution_count": 11,
   "id": "aaff4684-450d-435e-9081-5346c75d25a2",
   "metadata": {},
   "outputs": [
    {
     "data": {
      "text/plain": [
       "24"
      ]
     },
     "execution_count": 11,
     "metadata": {},
     "output_type": "execute_result"
    }
   ],
   "source": [
    "df.rdd.getNumPartitions()"
   ]
  },
  {
   "cell_type": "code",
   "execution_count": 12,
   "id": "b7dc7733-583c-4638-9ac1-591d210ece9f",
   "metadata": {},
   "outputs": [
    {
     "name": "stdout",
     "output_type": "stream",
     "text": [
      "root\n",
      " |-- hvfhs_license_num: string (nullable = true)\n",
      " |-- dispatching_base_num: string (nullable = true)\n",
      " |-- pickup_datetime: timestamp (nullable = true)\n",
      " |-- dropoff_datetime: timestamp (nullable = true)\n",
      " |-- PULocationID: integer (nullable = true)\n",
      " |-- DOLocationID: integer (nullable = true)\n",
      " |-- SR_Flag: string (nullable = true)\n",
      "\n"
     ]
    }
   ],
   "source": [
    "df.printSchema()"
   ]
  },
  {
   "cell_type": "markdown",
   "id": "34a90200-f4ff-4f85-8dba-562c8f835acc",
   "metadata": {},
   "source": [
    "##### UDF"
   ]
  },
  {
   "cell_type": "code",
   "execution_count": 15,
   "id": "0ad56bd2-5e1b-4ab7-9911-c272b12f9662",
   "metadata": {},
   "outputs": [],
   "source": [
    "def crazy_stuff(base_num):\n",
    "    num = int(base_num[1:])\n",
    "    if num % 7 == 0:\n",
    "        return f's/{num:03x}'\n",
    "    elif num % 3 == 0:\n",
    "        return f'a/{num:03x}'\n",
    "    else:\n",
    "        return f'e/{num:03x}'"
   ]
  },
  {
   "cell_type": "code",
   "execution_count": 16,
   "id": "2977e656-9627-493c-85df-44698d94e7dc",
   "metadata": {},
   "outputs": [],
   "source": [
    "# register functions as UDF\n",
    "crazy_stuff_udf = sf.udf(crazy_stuff, types.StringType())"
   ]
  },
  {
   "cell_type": "code",
   "execution_count": 18,
   "id": "3206efbd-09b8-4269-aeb3-d39b67ac9399",
   "metadata": {},
   "outputs": [
    {
     "name": "stdout",
     "output_type": "stream",
     "text": [
      "+-------+-----------+------------+------------+------------+\n",
      "|base_id|pickup_date|dropoff_date|PULocationID|DOLocationID|\n",
      "+-------+-----------+------------+------------+------------+\n",
      "|  e/9ce| 2021-01-09|  2021-01-09|          85|          35|\n",
      "|  e/acc| 2021-01-07|  2021-01-07|          37|          36|\n",
      "|  e/b38| 2021-01-22|  2021-01-22|         158|         229|\n",
      "|  e/9ce| 2021-01-20|  2021-01-20|         216|         130|\n",
      "|  e/9ce| 2021-01-29|  2021-01-29|         160|          48|\n",
      "|  e/b3b| 2021-01-15|  2021-01-15|         165|          91|\n",
      "|  e/9ce| 2021-01-02|  2021-01-02|         262|         239|\n",
      "|  e/b38| 2021-01-20|  2021-01-20|          85|          67|\n",
      "|  e/acc| 2021-01-17|  2021-01-17|          48|          47|\n",
      "|  s/acd| 2021-01-17|  2021-01-17|         244|         159|\n",
      "|  e/acc| 2021-01-21|  2021-01-21|         244|         242|\n",
      "|  e/9ce| 2021-01-23|  2021-01-23|         234|          12|\n",
      "|  e/b3c| 2021-01-22|  2021-01-22|         143|         239|\n",
      "|  s/b13| 2021-01-23|  2021-01-23|         223|         179|\n",
      "|  e/b30| 2021-01-19|  2021-01-19|          37|         225|\n",
      "|  e/9ce| 2021-01-08|  2021-01-08|          97|          49|\n",
      "|  e/9ce| 2021-01-07|  2021-01-07|         126|         265|\n",
      "|  e/b47| 2021-01-24|  2021-01-24|         137|          90|\n",
      "|  e/b3b| 2021-01-03|  2021-01-03|          85|          91|\n",
      "|  e/b3c| 2021-01-28|  2021-01-28|         115|         187|\n",
      "+-------+-----------+------------+------------+------------+\n",
      "only showing top 20 rows\n",
      "\n"
     ]
    }
   ],
   "source": [
    "df \\\n",
    "    .withColumn('pickup_date', sf.to_date(df.pickup_datetime)) \\\n",
    "    .withColumn('dropoff_date', sf.to_date(df.dropoff_datetime)) \\\n",
    "    .withColumn('base_id', crazy_stuff_udf(df.dispatching_base_num)) \\\n",
    "    .select('base_id', 'pickup_date', 'dropoff_date', 'PULocationID', 'DOLocationID') \\\n",
    "    .show()"
   ]
  },
  {
   "cell_type": "code",
   "execution_count": null,
   "id": "f83c4b65-da05-4066-a7df-d2568d6c06bd",
   "metadata": {},
   "outputs": [],
   "source": []
  }
 ],
 "metadata": {
  "kernelspec": {
   "display_name": "Python 3 (ipykernel)",
   "language": "python",
   "name": "python3"
  },
  "language_info": {
   "codemirror_mode": {
    "name": "ipython",
    "version": 3
   },
   "file_extension": ".py",
   "mimetype": "text/x-python",
   "name": "python",
   "nbconvert_exporter": "python",
   "pygments_lexer": "ipython3",
   "version": "3.11.6"
  }
 },
 "nbformat": 4,
 "nbformat_minor": 5
}
